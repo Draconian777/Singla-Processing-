{
 "cells": [
  {
   "cell_type": "code",
   "execution_count": 15,
   "id": "e97acb8a",
   "metadata": {},
   "outputs": [],
   "source": [
    "import numpy as np\n",
    "import matplotlib.pyplot as plt\n",
    "from scipy.integrate import odeint"
   ]
  },
  {
   "cell_type": "code",
   "execution_count": 16,
   "id": "fab1e9e8",
   "metadata": {},
   "outputs": [],
   "source": [
    "#we construct unit step function\n",
    "def epsilon(t):\n",
    "    return(t>0)*1"
   ]
  },
  {
   "cell_type": "code",
   "execution_count": 17,
   "id": "c4ea4436",
   "metadata": {
    "scrolled": true
   },
   "outputs": [
    {
     "data": {
      "text/plain": [
       "[<matplotlib.lines.Line2D at 0x2644bfd9700>]"
      ]
     },
     "execution_count": 17,
     "metadata": {},
     "output_type": "execute_result"
    },
    {
     "data": {
      "image/png": "[encoded data removed]",
      "text/plain": [
       "<Figure size 432x288 with 1 Axes>"
      ]
     },
     "metadata": {
      "needs_background": "light"
     },
     "output_type": "display_data"
    }
   ],
   "source": [
    "t=np.linspace(-1,3,1000) #use 1000 elements to make it more precise\n",
    "u=epsilon(t)\n",
    "plt.plot(t,u)"
   ]
  },
  {
   "cell_type": "code",
   "execution_count": 27,
   "id": "80fd7ec5",
   "metadata": {
    "scrolled": true
   },
   "outputs": [
    {
     "name": "stdout",
     "output_type": "stream",
     "text": [
      "[[ 0.  1.]\n",
      " [-1. -1.]]\n"
     ]
    }
   ],
   "source": [
    "g=9.81\n",
    "l=1\n",
    "b=k=m=d=1\n",
    "#A=np.array([[0,1],[(-1*k/m),(-1*d/m)]])\n",
    "#B=np.array([[0],[b/m]])\n",
    "dxdt=[]"
   ]
  },
  {
   "cell_type": "code",
   "execution_count": 41,
   "id": "fa304cb3",
   "metadata": {},
   "outputs": [],
   "source": [
    "#The Differential Equation as a function for odeint\n",
    "def PEN_ODE (X,t,k,m,d,b):\n",
    "    u=epsilon(t)\n",
    "    \n",
    "    dxdt=[X[1], X[0]*(-1*k/m)+(-1*d/m)*X[1]+(b/m)*u]\n",
    "    return dxdt"
   ]
  },
  {
   "cell_type": "code",
   "execution_count": 47,
   "id": "935f8bf8",
   "metadata": {},
   "outputs": [],
   "source": [
    "t=np.linspace(-.01,20,5000)\n",
    "IC=[0,0]\n",
    "X_out=odeint(PEN_ODE, IC, t, args=(k,m,d,b))"
   ]
  },
  {
   "cell_type": "code",
   "execution_count": 48,
   "id": "d2913711",
   "metadata": {},
   "outputs": [
    {
     "data": {
      "text/plain": [
       "(Text(0.5, 0, 't'), Text(0, 0.5, 'X(t)'))"
      ]
     },
     "execution_count": 48,
     "metadata": {},
     "output_type": "execute_result"
    },
    {
     "data": {
      "image/png": "[encoded data removed]",
      "text/plain": [
       "<Figure size 432x288 with 1 Axes>"
      ]
     },
     "metadata": {
      "needs_background": "light"
     },
     "output_type": "display_data"
    }
   ],
   "source": [
    "plt.plot(t,X_out),plt.grid(1)\n",
    "plt.xlabel('t'), plt.ylabel('X(t)')"
   ]
  },
  {
   "cell_type": "code",
   "execution_count": null,
   "id": "73b059e3",
   "metadata": {},
   "outputs": [],
   "source": []
  },
  {
   "cell_type": "code",
   "execution_count": null,
   "id": "f9eed672",
   "metadata": {},
   "outputs": [],
   "source": []
  }
 ],
 "metadata": {
  "kernelspec": {
   "display_name": "Python 3 (ipykernel)",
   "language": "python",
   "name": "python3"
  },
  "language_info": {
   "codemirror_mode": {
    "name": "ipython",
    "version": 3
   },
   "file_extension": ".py",
   "mimetype": "text/x-python",
   "name": "python",
   "nbconvert_exporter": "python",
   "pygments_lexer": "ipython3",
   "version": "3.9.7"
  }
 },
 "nbformat": 4,
 "nbformat_minor": 5
}
