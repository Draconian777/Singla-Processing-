{
 "cells": [
  {
   "cell_type": "code",
   "execution_count": 5,
   "metadata": {},
   "outputs": [],
   "source": [
    "import numpy as np\n",
    "import matplotlib.pyplot as plt\n",
    "from scipy.integrate import odeint"
   ]
  },
  {
   "cell_type": "markdown",
   "metadata": {},
   "source": [
    "### System Analysis\n",
    "\n",
    "The system to be investigated is described by the following ODE:\n",
    "\n",
    "$$ L i''(t) + R i'(t) + \\frac{1}{C} i(t) = v'(t)$$\n",
    "\n",
    "where $i(t)$ is the output, $v(t)$ is the input of the system, and the parameters are $L, R$ and $C$."
   ]
  },
  {
   "cell_type": "code",
   "execution_count": 6,
   "metadata": {},
   "outputs": [
    {
     "data": {
      "text/plain": [
       "(0.0032124719950399772, 6.623242089054928, 6.491540894651626e-05)"
      ]
     },
     "execution_count": 6,
     "metadata": {},
     "output_type": "execute_result"
    }
   ],
   "source": [
    "# the parameters\n",
    "neptun_ID = \"ABCDEF\"  # <--- replace this with your Neptun ID\n",
    "rseed = int(neptun_ID, base=36)\n",
    "np.random.seed(rseed)\n",
    "L = np.random.uniform(1e-3, 1e-2)\n",
    "R = np.random.uniform(1e0, 1e1)\n",
    "C = np.random.uniform(1e-5, 1e-4)\n",
    "L, R, C"
   ]
  },
  {
   "cell_type": "markdown",
   "metadata": {},
   "source": [
    "**Q1.** Calculate the time-span of the transient (assuming, that the transient is over, when its amplitude drops below $2$% of its maximum value.)"
   ]
  },
  {
   "cell_type": "code",
   "execution_count": 7,
   "metadata": {},
   "outputs": [],
   "source": [
    "#"
   ]
  },
  {
   "cell_type": "markdown",
   "metadata": {},
   "source": [
    "**Q2.** Analyze the behavior of the system for the sinusoidal input: $v(t)=A sin(\\omega t)$ for various values of $A$ and $\\omega$.\n",
    "\n",
    "(Notice, that the right hand side of the ODE is $v'(t)$.)\n",
    "\n",
    "Make a simulation using the *odeint* function.\n",
    "\n",
    "(During the time domain investigation, think about the time-span of the transient in order to set-up a reasonable time range of investigation.)"
   ]
  },
  {
   "cell_type": "code",
   "execution_count": 8,
   "metadata": {},
   "outputs": [],
   "source": [
    "#"
   ]
  },
  {
   "cell_type": "markdown",
   "metadata": {},
   "source": [
    "**Q3.** Calculate the natural angular frequency of transient oscillation. Calculate the period of the stationary oscillation for a few selected $\\omega$. Take notes on your findings."
   ]
  },
  {
   "cell_type": "code",
   "execution_count": 9,
   "metadata": {},
   "outputs": [],
   "source": [
    "#"
   ]
  }
 ],
 "metadata": {
  "kernelspec": {
   "display_name": "Python 3",
   "language": "python",
   "name": "python3"
  },
  "language_info": {
   "codemirror_mode": {
    "name": "ipython",
    "version": 3
   },
   "file_extension": ".py",
   "mimetype": "text/x-python",
   "name": "python",
   "nbconvert_exporter": "python",
   "pygments_lexer": "ipython3",
   "version": "3.6.10"
  }
 },
 "nbformat": 4,
 "nbformat_minor": 4
}
