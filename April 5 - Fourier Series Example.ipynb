{
 "cells": [
  {
   "cell_type": "code",
   "execution_count": 4,
   "id": "1a41f705",
   "metadata": {},
   "outputs": [],
   "source": [
    "import numpy as np\n",
    "import matplotlib.pyplot as plt\n",
    "from scipy.integrate import quad"
   ]
  },
  {
   "cell_type": "code",
   "execution_count": 3,
   "id": "8d13c4a3",
   "metadata": {},
   "outputs": [
    {
     "name": "stdout",
     "output_type": "stream",
     "text": [
      "1.0\n",
      "2.0\n"
     ]
    }
   ],
   "source": [
    "z=1+2j\n",
    "print(np.real(z))\n",
    "print(np.imag(z))"
   ]
  },
  {
   "cell_type": "code",
   "execution_count": 5,
   "id": "a603be1d",
   "metadata": {},
   "outputs": [],
   "source": [
    "def per_function(t):\n",
    "    return np.sing(t)+3*np.cos(2*t)"
   ]
  },
  {
   "cell_type": "code",
   "execution_count": 6,
   "id": "e0d01e77",
   "metadata": {},
   "outputs": [],
   "source": [
    "def per_func(t):\n",
    "    return np.sin(t)              #try playing with this function\n",
    "#HW, try to do with sawtooth and square\n"
   ]
  },
  {
   "cell_type": "code",
   "execution_count": 7,
   "id": "7c0cfcf8",
   "metadata": {},
   "outputs": [],
   "source": [
    "def exp_multiplier(t,k,w0):\n",
    "    return np.exp(-1j*k*w0*t)"
   ]
  },
  {
   "cell_type": "code",
   "execution_count": 8,
   "id": "3e6a1777",
   "metadata": {},
   "outputs": [],
   "source": [
    "def func_to_integrate(t,k,w0):\n",
    "    return per_func(t)*exp_multiplier(t,k,w0)"
   ]
  },
  {
   "cell_type": "code",
   "execution_count": 9,
   "id": "31420322",
   "metadata": {},
   "outputs": [],
   "source": [
    "def real_func(t,k,w0):\n",
    "    return np.real(func_to_integrate(t,k,w0))"
   ]
  },
  {
   "cell_type": "code",
   "execution_count": 10,
   "id": "41baadbc",
   "metadata": {},
   "outputs": [],
   "source": [
    "def imag_func(t,k,w0):\n",
    "    return np.imag(func_to_integrate(t,k,w0))"
   ]
  },
  {
   "cell_type": "code",
   "execution_count": 11,
   "id": "17d4829e",
   "metadata": {},
   "outputs": [],
   "source": [
    "N=3\n",
    "w0=1\n",
    "T0=2*np.pi/w0\n",
    "k_range= np.arange(-N,N+1)\n",
    "C=1j*np.zeros(len(k_range))\n",
    "for k in k_range:\n",
    "    C_real,err= quad(real_func,0,T0,args=(k,w0))\n",
    "    C_imag,err= quad(imag_func,0, T0,args=(k,w0))\n",
    "    C[k] = 1/T0*(C_real + 1j*C_imag)"
   ]
  },
  {
   "cell_type": "code",
   "execution_count": 12,
   "id": "f20d3f0a",
   "metadata": {},
   "outputs": [
    {
     "data": {
      "text/plain": [
       "array([ 3.53562942e-17+0.00000000e+00j, -1.08941647e-17-5.00000000e-01j,\n",
       "        1.35119179e-17-1.80989619e-17j, -1.41133330e-16-1.11022302e-16j,\n",
       "       -1.41133330e-16+1.11022302e-16j,  1.35119179e-17+1.80989619e-17j,\n",
       "       -1.08941647e-17+5.00000000e-01j])"
      ]
     },
     "execution_count": 12,
     "metadata": {},
     "output_type": "execute_result"
    }
   ],
   "source": [
    "C"
   ]
  },
  {
   "cell_type": "code",
   "execution_count": 13,
   "id": "976438f1",
   "metadata": {},
   "outputs": [],
   "source": [
    "aC=np.abs(C)\n",
    "pC=np.angle(C)\n",
    "pC=np.angle(C)*(aC>1e-6)        #For the values of amplitude less than e-6, phase is practically not important becacuse it is noise"
   ]
  },
  {
   "cell_type": "code",
   "execution_count": 14,
   "id": "11601e72",
   "metadata": {},
   "outputs": [
    {
     "data": {
      "text/plain": [
       "<StemContainer object of 3 artists>"
      ]
     },
     "execution_count": 14,
     "metadata": {},
     "output_type": "execute_result"
    },
    {
     "data": {
      "image/png": "[encoded data removed]",
      "text/plain": [
       "<Figure size 432x288 with 1 Axes>"
      ]
     },
     "metadata": {
      "needs_background": "light"
     },
     "output_type": "display_data"
    }
   ],
   "source": [
    "plt.stem(k_range,aC[k_range])"
   ]
  },
  {
   "cell_type": "code",
   "execution_count": 15,
   "id": "bcc92661",
   "metadata": {},
   "outputs": [
    {
     "data": {
      "text/plain": [
       "<StemContainer object of 3 artists>"
      ]
     },
     "execution_count": 15,
     "metadata": {},
     "output_type": "execute_result"
    },
    {
     "data": {
      "image/png": "[encoded data removed]",
      "text/plain": [
       "<Figure size 432x288 with 1 Axes>"
      ]
     },
     "metadata": {
      "needs_background": "light"
     },
     "output_type": "display_data"
    }
   ],
   "source": [
    "plt.stem(k_range,pC[k_range])"
   ]
  },
  {
   "cell_type": "code",
   "execution_count": null,
   "id": "7ef4f99c",
   "metadata": {},
   "outputs": [],
   "source": [
    "#My attempt"
   ]
  },
  {
   "cell_type": "code",
   "execution_count": 9,
   "id": "c4dbe0ca",
   "metadata": {},
   "outputs": [],
   "source": [
    "t=np.linspace(-1,3,1000)\n",
    "#a=np.sin(5000*t)"
   ]
  },
  {
   "cell_type": "code",
   "execution_count": 34,
   "id": "25443861",
   "metadata": {},
   "outputs": [],
   "source": [
    "w0=1\n",
    "T0=2*np.pi/w0\n",
    "k=np.arange(-3,4)"
   ]
  },
  {
   "cell_type": "code",
   "execution_count": 35,
   "id": "2f25d6e2",
   "metadata": {},
   "outputs": [],
   "source": [
    "#construct sin(t).e^-jkw0t  We want a function that provides a scalar value\n",
    "def periodic_fun(t,k,w0,X):\n",
    "    X=np.sin(t)*np.exp(-j*k*w0*t)\n",
    "    return X"
   ]
  },
  {
   "cell_type": "code",
   "execution_count": 37,
   "id": "3b6cb566",
   "metadata": {},
   "outputs": [
    {
     "ename": "TypeError",
     "evalue": "only integer scalar arrays can be converted to a scalar index",
     "output_type": "error",
     "traceback": [
      "\u001b[1;31m---------------------------------------------------------------------------\u001b[0m",
      "\u001b[1;31mTypeError\u001b[0m                                 Traceback (most recent call last)",
      "\u001b[1;32m~\\AppData\\Local\\Temp/ipykernel_3036/1465746589.py\u001b[0m in \u001b[0;36m<module>\u001b[1;34m\u001b[0m\n\u001b[0;32m      1\u001b[0m \u001b[1;32mfor\u001b[0m \u001b[0mi\u001b[0m \u001b[1;32min\u001b[0m \u001b[0mrange\u001b[0m \u001b[1;33m(\u001b[0m\u001b[0mmin\u001b[0m\u001b[1;33m(\u001b[0m\u001b[0mk\u001b[0m\u001b[1;33m)\u001b[0m\u001b[1;33m,\u001b[0m\u001b[0mmax\u001b[0m\u001b[1;33m(\u001b[0m\u001b[0mk\u001b[0m\u001b[1;33m)\u001b[0m\u001b[1;33m)\u001b[0m\u001b[1;33m:\u001b[0m\u001b[1;33m\u001b[0m\u001b[1;33m\u001b[0m\u001b[0m\n\u001b[1;32m----> 2\u001b[1;33m     \u001b[0mC\u001b[0m\u001b[1;33m=\u001b[0m\u001b[0mquad\u001b[0m\u001b[1;33m(\u001b[0m\u001b[0mperiodic_fun\u001b[0m\u001b[1;33m,\u001b[0m\u001b[1;36m0\u001b[0m\u001b[1;33m,\u001b[0m\u001b[0mT0\u001b[0m\u001b[1;33m,\u001b[0m\u001b[0mt\u001b[0m\u001b[1;33m,\u001b[0m\u001b[0mk\u001b[0m\u001b[1;33m,\u001b[0m\u001b[0mw0\u001b[0m\u001b[1;33m)\u001b[0m           \u001b[1;31m#works for real-valued functions\u001b[0m\u001b[1;33m\u001b[0m\u001b[1;33m\u001b[0m\u001b[0m\n\u001b[0m",
      "\u001b[1;32mC:\\ProgramData\\Anaconda3\\lib\\site-packages\\scipy\\integrate\\quadpack.py\u001b[0m in \u001b[0;36mquad\u001b[1;34m(func, a, b, args, full_output, epsabs, epsrel, limit, points, weight, wvar, wopts, maxp1, limlst)\u001b[0m\n\u001b[0;32m    349\u001b[0m \u001b[1;33m\u001b[0m\u001b[0m\n\u001b[0;32m    350\u001b[0m     \u001b[1;32mif\u001b[0m \u001b[0mweight\u001b[0m \u001b[1;32mis\u001b[0m \u001b[1;32mNone\u001b[0m\u001b[1;33m:\u001b[0m\u001b[1;33m\u001b[0m\u001b[1;33m\u001b[0m\u001b[0m\n\u001b[1;32m--> 351\u001b[1;33m         retval = _quad(func, a, b, args, full_output, epsabs, epsrel, limit,\n\u001b[0m\u001b[0;32m    352\u001b[0m                        points)\n\u001b[0;32m    353\u001b[0m     \u001b[1;32melse\u001b[0m\u001b[1;33m:\u001b[0m\u001b[1;33m\u001b[0m\u001b[1;33m\u001b[0m\u001b[0m\n",
      "\u001b[1;32mC:\\ProgramData\\Anaconda3\\lib\\site-packages\\scipy\\integrate\\quadpack.py\u001b[0m in \u001b[0;36m_quad\u001b[1;34m(func, a, b, args, full_output, epsabs, epsrel, limit, points)\u001b[0m\n\u001b[0;32m    461\u001b[0m     \u001b[1;32mif\u001b[0m \u001b[0mpoints\u001b[0m \u001b[1;32mis\u001b[0m \u001b[1;32mNone\u001b[0m\u001b[1;33m:\u001b[0m\u001b[1;33m\u001b[0m\u001b[1;33m\u001b[0m\u001b[0m\n\u001b[0;32m    462\u001b[0m         \u001b[1;32mif\u001b[0m \u001b[0minfbounds\u001b[0m \u001b[1;33m==\u001b[0m \u001b[1;36m0\u001b[0m\u001b[1;33m:\u001b[0m\u001b[1;33m\u001b[0m\u001b[1;33m\u001b[0m\u001b[0m\n\u001b[1;32m--> 463\u001b[1;33m             \u001b[1;32mreturn\u001b[0m \u001b[0m_quadpack\u001b[0m\u001b[1;33m.\u001b[0m\u001b[0m_qagse\u001b[0m\u001b[1;33m(\u001b[0m\u001b[0mfunc\u001b[0m\u001b[1;33m,\u001b[0m\u001b[0ma\u001b[0m\u001b[1;33m,\u001b[0m\u001b[0mb\u001b[0m\u001b[1;33m,\u001b[0m\u001b[0margs\u001b[0m\u001b[1;33m,\u001b[0m\u001b[0mfull_output\u001b[0m\u001b[1;33m,\u001b[0m\u001b[0mepsabs\u001b[0m\u001b[1;33m,\u001b[0m\u001b[0mepsrel\u001b[0m\u001b[1;33m,\u001b[0m\u001b[0mlimit\u001b[0m\u001b[1;33m)\u001b[0m\u001b[1;33m\u001b[0m\u001b[1;33m\u001b[0m\u001b[0m\n\u001b[0m\u001b[0;32m    464\u001b[0m         \u001b[1;32melse\u001b[0m\u001b[1;33m:\u001b[0m\u001b[1;33m\u001b[0m\u001b[1;33m\u001b[0m\u001b[0m\n\u001b[0;32m    465\u001b[0m             \u001b[1;32mreturn\u001b[0m \u001b[0m_quadpack\u001b[0m\u001b[1;33m.\u001b[0m\u001b[0m_qagie\u001b[0m\u001b[1;33m(\u001b[0m\u001b[0mfunc\u001b[0m\u001b[1;33m,\u001b[0m\u001b[0mbound\u001b[0m\u001b[1;33m,\u001b[0m\u001b[0minfbounds\u001b[0m\u001b[1;33m,\u001b[0m\u001b[0margs\u001b[0m\u001b[1;33m,\u001b[0m\u001b[0mfull_output\u001b[0m\u001b[1;33m,\u001b[0m\u001b[0mepsabs\u001b[0m\u001b[1;33m,\u001b[0m\u001b[0mepsrel\u001b[0m\u001b[1;33m,\u001b[0m\u001b[0mlimit\u001b[0m\u001b[1;33m)\u001b[0m\u001b[1;33m\u001b[0m\u001b[1;33m\u001b[0m\u001b[0m\n",
      "\u001b[1;31mTypeError\u001b[0m: only integer scalar arrays can be converted to a scalar index"
     ]
    }
   ],
   "source": [
    "for i in range (min(k),max(k)):\n",
    "    C=quad(periodic_fun,0,T0,t,k,w0)           #works for real-valued functions\n"
   ]
  },
  {
   "cell_type": "code",
   "execution_count": null,
   "id": "4444b8fa",
   "metadata": {},
   "outputs": [],
   "source": []
  }
 ],
 "metadata": {
  "kernelspec": {
   "display_name": "Python 3 (ipykernel)",
   "language": "python",
   "name": "python3"
  },
  "language_info": {
   "codemirror_mode": {
    "name": "ipython",
    "version": 3
   },
   "file_extension": ".py",
   "mimetype": "text/x-python",
   "name": "python",
   "nbconvert_exporter": "python",
   "pygments_lexer": "ipython3",
   "version": "3.9.7"
  }
 },
 "nbformat": 4,
 "nbformat_minor": 5
}
